{
 "cells": [
  {
   "cell_type": "markdown",
   "metadata": {},
   "source": [
    "# Signal peptide figure"
   ]
  },
  {
   "cell_type": "code",
   "execution_count": 39,
   "metadata": {},
   "outputs": [],
   "source": [
    "import os\n",
    "from pathlib import Path\n",
    "\n",
    "import pandas as pd\n",
    "import matplotlib.pyplot as plt\n",
    "import seaborn as sns\n",
    "\n",
    "cwd = os.getcwd()\n",
    "if cwd.endswith('notebook/figure1'):\n",
    "    os.chdir('../..')\n",
    "    cwd = os.getcwd()\n",
    "    print(f'Working directory: {cwd}')\n",
    "\n",
    "sns.set_palette('colorblind')\n",
    "sns.set_style('whitegrid')\n",
    "sns.set_context('paper', font_scale=2)\n",
    "palette = sns.color_palette().as_hex()\n",
    "\n",
    "data_folder = Path('./data')\n",
    "assert data_folder.is_dir()\n",
    "\n",
    "figures_folder = Path('./figures')\n",
    "assert figures_folder.is_dir()"
   ]
  },
  {
   "cell_type": "markdown",
   "metadata": {},
   "source": [
    "## Data prep"
   ]
  },
  {
   "cell_type": "markdown",
   "metadata": {},
   "source": [
    "### Load signalP output\n",
    "\n",
    "Generated from script `src/predict_signalp.py`"
   ]
  },
  {
   "cell_type": "code",
   "execution_count": 40,
   "metadata": {},
   "outputs": [
    {
     "data": {
      "text/html": [
       "<div>\n",
       "<style scoped>\n",
       "    .dataframe tbody tr th:only-of-type {\n",
       "        vertical-align: middle;\n",
       "    }\n",
       "\n",
       "    .dataframe tbody tr th {\n",
       "        vertical-align: top;\n",
       "    }\n",
       "\n",
       "    .dataframe thead th {\n",
       "        text-align: right;\n",
       "    }\n",
       "</style>\n",
       "<table border=\"1\" class=\"dataframe\">\n",
       "  <thead>\n",
       "    <tr style=\"text-align: right;\">\n",
       "      <th></th>\n",
       "      <th>protein_id</th>\n",
       "      <th>signal_peptide</th>\n",
       "      <th>probability</th>\n",
       "      <th>cleavage_site</th>\n",
       "      <th>cleavage_site_prob</th>\n",
       "      <th>assembly_accession</th>\n",
       "      <th>pathway</th>\n",
       "    </tr>\n",
       "  </thead>\n",
       "  <tbody>\n",
       "    <tr>\n",
       "      <th>0</th>\n",
       "      <td>BAC24414.1</td>\n",
       "      <td>Sec/SPII</td>\n",
       "      <td>0.987955</td>\n",
       "      <td>24-25</td>\n",
       "      <td>0.966853</td>\n",
       "      <td>GCA_000008885.1</td>\n",
       "      <td>Sec</td>\n",
       "    </tr>\n",
       "    <tr>\n",
       "      <th>1</th>\n",
       "      <td>BAF58967.1</td>\n",
       "      <td>Sec/SPII</td>\n",
       "      <td>0.685612</td>\n",
       "      <td>22-23</td>\n",
       "      <td>0.602861</td>\n",
       "      <td>GCA_000010565.1</td>\n",
       "      <td>Sec</td>\n",
       "    </tr>\n",
       "    <tr>\n",
       "      <th>2</th>\n",
       "      <td>BAF61015.1</td>\n",
       "      <td>Sec/SPI</td>\n",
       "      <td>0.998938</td>\n",
       "      <td>33-34</td>\n",
       "      <td>0.969633</td>\n",
       "      <td>GCA_000010565.1</td>\n",
       "      <td>Sec</td>\n",
       "    </tr>\n",
       "    <tr>\n",
       "      <th>3</th>\n",
       "      <td>BAG83382.1</td>\n",
       "      <td>Sec/SPI</td>\n",
       "      <td>0.786221</td>\n",
       "      <td>29-30</td>\n",
       "      <td>0.700540</td>\n",
       "      <td>GCA_000010645.1</td>\n",
       "      <td>Sec</td>\n",
       "    </tr>\n",
       "    <tr>\n",
       "      <th>4</th>\n",
       "      <td>ABG39042.1</td>\n",
       "      <td>Sec/SPI</td>\n",
       "      <td>0.868330</td>\n",
       "      <td>44-45</td>\n",
       "      <td>0.823325</td>\n",
       "      <td>GCA_000014225.1</td>\n",
       "      <td>Sec</td>\n",
       "    </tr>\n",
       "  </tbody>\n",
       "</table>\n",
       "</div>"
      ],
      "text/plain": [
       "   protein_id signal_peptide  probability cleavage_site  cleavage_site_prob  \\\n",
       "0  BAC24414.1       Sec/SPII     0.987955         24-25            0.966853   \n",
       "1  BAF58967.1       Sec/SPII     0.685612         22-23            0.602861   \n",
       "2  BAF61015.1        Sec/SPI     0.998938         33-34            0.969633   \n",
       "3  BAG83382.1        Sec/SPI     0.786221         29-30            0.700540   \n",
       "4  ABG39042.1        Sec/SPI     0.868330         44-45            0.823325   \n",
       "\n",
       "  assembly_accession pathway  \n",
       "0    GCA_000008885.1     Sec  \n",
       "1    GCA_000010565.1     Sec  \n",
       "2    GCA_000010565.1     Sec  \n",
       "3    GCA_000010645.1     Sec  \n",
       "4    GCA_000014225.1     Sec  "
      ]
     },
     "execution_count": 40,
     "metadata": {},
     "output_type": "execute_result"
    }
   ],
   "source": [
    "signalp_output = pd.read_csv(data_folder / 'signalp6_output.csv')\n",
    "signalp_output['assembly_accession'] = signalp_output['protein_id'].apply(\n",
    "    lambda p: p.split('@')[1] if '@' in p else None\n",
    ")\n",
    "signalp_output['protein_id'] = signalp_output['protein_id'].apply(\n",
    "    lambda p: p.split('@')[0] if '@' in p else p\n",
    ")\n",
    "signalp_output['pathway'] = signalp_output['signal_peptide'].apply(lambda sp: sp.split('/')[0])\n",
    "signalp_output.head()"
   ]
  },
  {
   "cell_type": "markdown",
   "metadata": {},
   "source": [
    "### Load assembly metadata"
   ]
  },
  {
   "cell_type": "code",
   "execution_count": 46,
   "metadata": {},
   "outputs": [
    {
     "name": "stdout",
     "output_type": "stream",
     "text": [
      "54407\n"
     ]
    }
   ],
   "source": [
    "gtdb_metadata = pd.read_csv(Path('../assemblies/data/') / 'gtdb_metadata.csv')\n",
    "gtdb_metadata['domain'] = gtdb_metadata['gtdb_taxonomy'].apply(lambda t: t.split(';')[0].replace('d__', ''))\n",
    "gtdb_metadata['gtdb_phylum'] = gtdb_metadata['gtdb_taxonomy'].apply(lambda t: t.split(';')[1].replace('p__', ''))\n",
    "gtdb_metadata['gtdb_class'] = gtdb_metadata['gtdb_taxonomy'].apply(lambda t: t.split(';')[2].replace('c__', ''))\n",
    "gtdb_metadata['gtdb_order'] = gtdb_metadata['gtdb_taxonomy'].apply(lambda t: t.split(';')[3].replace('o__', ''))\n",
    "gtdb_metadata['gtdb_family'] = gtdb_metadata['gtdb_taxonomy'].apply(lambda t: t.split(';')[4].replace('f__', ''))\n",
    "gtdb_metadata['gtdb_genus'] = gtdb_metadata['gtdb_taxonomy'].apply(lambda t: t.split(';')[5].replace('g__', ''))\n",
    "gtdb_metadata['gtdb_species'] = gtdb_metadata['gtdb_taxonomy'].apply(lambda t: t.split(';')[6].replace('s__', ''))\n",
    "gtdb_metadata = gtdb_metadata.set_index('ncbi_accession', drop=True)\n",
    "print(len(gtdb_metadata))"
   ]
  },
  {
   "cell_type": "code",
   "execution_count": 45,
   "metadata": {},
   "outputs": [
    {
     "data": {
      "text/plain": [
       "['ncbi_ncrna_count',\n",
       " 'ncbi_rrna_count',\n",
       " 'ncbi_ssu_count',\n",
       " 'ncbi_translation_table',\n",
       " 'ncbi_trna_count']"
      ]
     },
     "execution_count": 45,
     "metadata": {},
     "output_type": "execute_result"
    }
   ],
   "source": [
    "[gtdb_metadata.columns[i] for i in (62,66,75,83,84)]"
   ]
  },
  {
   "cell_type": "markdown",
   "metadata": {},
   "source": [
    "### Add domain information to signalP output"
   ]
  },
  {
   "cell_type": "code",
   "execution_count": 42,
   "metadata": {},
   "outputs": [
    {
     "data": {
      "text/html": [
       "<div>\n",
       "<style scoped>\n",
       "    .dataframe tbody tr th:only-of-type {\n",
       "        vertical-align: middle;\n",
       "    }\n",
       "\n",
       "    .dataframe tbody tr th {\n",
       "        vertical-align: top;\n",
       "    }\n",
       "\n",
       "    .dataframe thead th {\n",
       "        text-align: right;\n",
       "    }\n",
       "</style>\n",
       "<table border=\"1\" class=\"dataframe\">\n",
       "  <thead>\n",
       "    <tr style=\"text-align: right;\">\n",
       "      <th></th>\n",
       "      <th>protein_id</th>\n",
       "      <th>signal_peptide</th>\n",
       "      <th>probability</th>\n",
       "      <th>cleavage_site</th>\n",
       "      <th>cleavage_site_prob</th>\n",
       "      <th>assembly_accession</th>\n",
       "      <th>pathway</th>\n",
       "      <th>domain</th>\n",
       "    </tr>\n",
       "  </thead>\n",
       "  <tbody>\n",
       "    <tr>\n",
       "      <th>0</th>\n",
       "      <td>BAC24414.1</td>\n",
       "      <td>Sec/SPII</td>\n",
       "      <td>0.987955</td>\n",
       "      <td>24-25</td>\n",
       "      <td>0.966853</td>\n",
       "      <td>GCA_000008885.1</td>\n",
       "      <td>Sec</td>\n",
       "      <td>Bacteria</td>\n",
       "    </tr>\n",
       "    <tr>\n",
       "      <th>1</th>\n",
       "      <td>BAF58967.1</td>\n",
       "      <td>Sec/SPII</td>\n",
       "      <td>0.685612</td>\n",
       "      <td>22-23</td>\n",
       "      <td>0.602861</td>\n",
       "      <td>GCA_000010565.1</td>\n",
       "      <td>Sec</td>\n",
       "      <td>Bacteria</td>\n",
       "    </tr>\n",
       "    <tr>\n",
       "      <th>2</th>\n",
       "      <td>BAF61015.1</td>\n",
       "      <td>Sec/SPI</td>\n",
       "      <td>0.998938</td>\n",
       "      <td>33-34</td>\n",
       "      <td>0.969633</td>\n",
       "      <td>GCA_000010565.1</td>\n",
       "      <td>Sec</td>\n",
       "      <td>Bacteria</td>\n",
       "    </tr>\n",
       "    <tr>\n",
       "      <th>3</th>\n",
       "      <td>BAG83382.1</td>\n",
       "      <td>Sec/SPI</td>\n",
       "      <td>0.786221</td>\n",
       "      <td>29-30</td>\n",
       "      <td>0.700540</td>\n",
       "      <td>GCA_000010645.1</td>\n",
       "      <td>Sec</td>\n",
       "      <td>Bacteria</td>\n",
       "    </tr>\n",
       "    <tr>\n",
       "      <th>4</th>\n",
       "      <td>ABG39042.1</td>\n",
       "      <td>Sec/SPI</td>\n",
       "      <td>0.868330</td>\n",
       "      <td>44-45</td>\n",
       "      <td>0.823325</td>\n",
       "      <td>GCA_000014225.1</td>\n",
       "      <td>Sec</td>\n",
       "      <td>Bacteria</td>\n",
       "    </tr>\n",
       "  </tbody>\n",
       "</table>\n",
       "</div>"
      ],
      "text/plain": [
       "   protein_id signal_peptide  probability cleavage_site  cleavage_site_prob  \\\n",
       "0  BAC24414.1       Sec/SPII     0.987955         24-25            0.966853   \n",
       "1  BAF58967.1       Sec/SPII     0.685612         22-23            0.602861   \n",
       "2  BAF61015.1        Sec/SPI     0.998938         33-34            0.969633   \n",
       "3  BAG83382.1        Sec/SPI     0.786221         29-30            0.700540   \n",
       "4  ABG39042.1        Sec/SPI     0.868330         44-45            0.823325   \n",
       "\n",
       "  assembly_accession pathway    domain  \n",
       "0    GCA_000008885.1     Sec  Bacteria  \n",
       "1    GCA_000010565.1     Sec  Bacteria  \n",
       "2    GCA_000010565.1     Sec  Bacteria  \n",
       "3    GCA_000010645.1     Sec  Bacteria  \n",
       "4    GCA_000014225.1     Sec  Bacteria  "
      ]
     },
     "execution_count": 42,
     "metadata": {},
     "output_type": "execute_result"
    }
   ],
   "source": [
    "signalp_dataset = pd.merge(\n",
    "    signalp_output,\n",
    "    gtdb_metadata[['assembly_accession', 'domain']],\n",
    "    on='assembly_accession',\n",
    "    how='inner',\n",
    ")\n",
    "signalp_dataset.head()"
   ]
  },
  {
   "cell_type": "markdown",
   "metadata": {},
   "source": [
    "## Bar plot: distribution of signal peptide types in each domain"
   ]
  },
  {
   "cell_type": "code",
   "execution_count": 43,
   "metadata": {},
   "outputs": [
    {
     "data": {
      "text/html": [
       "<div>\n",
       "<style scoped>\n",
       "    .dataframe tbody tr th:only-of-type {\n",
       "        vertical-align: middle;\n",
       "    }\n",
       "\n",
       "    .dataframe tbody tr th {\n",
       "        vertical-align: top;\n",
       "    }\n",
       "\n",
       "    .dataframe thead th {\n",
       "        text-align: right;\n",
       "    }\n",
       "</style>\n",
       "<table border=\"1\" class=\"dataframe\">\n",
       "  <thead>\n",
       "    <tr style=\"text-align: right;\">\n",
       "      <th></th>\n",
       "      <th></th>\n",
       "      <th>assembly_accession</th>\n",
       "      <th>total</th>\n",
       "      <th>percent</th>\n",
       "    </tr>\n",
       "    <tr>\n",
       "      <th>domain</th>\n",
       "      <th>pathway</th>\n",
       "      <th></th>\n",
       "      <th></th>\n",
       "      <th></th>\n",
       "    </tr>\n",
       "  </thead>\n",
       "  <tbody>\n",
       "    <tr>\n",
       "      <th rowspan=\"2\" valign=\"top\">Bacteria</th>\n",
       "      <th>Sec</th>\n",
       "      <td>34972</td>\n",
       "      <td>38170</td>\n",
       "      <td>91.62</td>\n",
       "    </tr>\n",
       "    <tr>\n",
       "      <th>Tat</th>\n",
       "      <td>3198</td>\n",
       "      <td>38170</td>\n",
       "      <td>8.38</td>\n",
       "    </tr>\n",
       "    <tr>\n",
       "      <th rowspan=\"2\" valign=\"top\">Archaea</th>\n",
       "      <th>Sec</th>\n",
       "      <td>36</td>\n",
       "      <td>55</td>\n",
       "      <td>65.45</td>\n",
       "    </tr>\n",
       "    <tr>\n",
       "      <th>Tat</th>\n",
       "      <td>19</td>\n",
       "      <td>55</td>\n",
       "      <td>34.55</td>\n",
       "    </tr>\n",
       "  </tbody>\n",
       "</table>\n",
       "</div>"
      ],
      "text/plain": [
       "                  assembly_accession  total  percent\n",
       "domain   pathway                                    \n",
       "Bacteria Sec                   34972  38170    91.62\n",
       "         Tat                    3198  38170     8.38\n",
       "Archaea  Sec                      36     55    65.45\n",
       "         Tat                      19     55    34.55"
      ]
     },
     "execution_count": 43,
     "metadata": {},
     "output_type": "execute_result"
    }
   ],
   "source": [
    "pathway_per_domain = signalp_dataset[\n",
    "    ['domain', 'pathway', 'assembly_accession']\n",
    "].groupby(\n",
    "    ['domain', 'pathway']\n",
    ").nunique().sort_values('assembly_accession', ascending=False)\n",
    "\n",
    "def total_per_domain_fn():\n",
    "    total_bacteria = pathway_per_domain.loc['Bacteria'].sum()\n",
    "    total_archaea = pathway_per_domain.loc['Archaea'].sum()\n",
    "\n",
    "    def fn(row):\n",
    "        domain, _ = row.name\n",
    "        return  total_bacteria if domain == 'Bacteria' else total_archaea\n",
    "\n",
    "    return fn\n",
    "\n",
    "pathway_per_domain['total'] = pathway_per_domain.apply(total_per_domain_fn(), axis=1)\n",
    "pathway_per_domain['percent'] = (100 * pathway_per_domain['assembly_accession'] / pathway_per_domain['total']).round(2)\n",
    "\n",
    "pathway_per_domain"
   ]
  },
  {
   "cell_type": "code",
   "execution_count": 44,
   "metadata": {},
   "outputs": [
    {
     "data": {
      "image/png": "[encoded data removed]",
      "text/plain": [
       "<Figure size 400x500 with 1 Axes>"
      ]
     },
     "metadata": {},
     "output_type": "display_data"
    }
   ],
   "source": [
    "pivot_df = pathway_per_domain.reset_index().pivot(index='domain', columns='pathway', values='percent')\n",
    "\n",
    "f, ax = plt.subplots(1, 1, figsize=(4, 5))\n",
    "\n",
    "pivot_df.plot(kind='bar', stacked=True, ax=ax, color=['#999999', '#555555', '#111111'], width=0.4);\n",
    "\n",
    "ax.set_xlabel('');\n",
    "ax.set_ylabel('% proteins with signal peptide');\n",
    "\n",
    "plt.xticks(rotation=0);\n",
    "\n",
    "ax.legend(bbox_to_anchor=(1, 1), loc='upper left');\n",
    "\n",
    "ax.set_title('Signal peptides');\n",
    "\n",
    "f.savefig(figures_folder / 'figure1' / 'signal_peptides.pdf', dpi=300, bbox_inches='tight');"
   ]
  },
  {
   "cell_type": "code",
   "execution_count": null,
   "metadata": {},
   "outputs": [],
   "source": []
  }
 ],
 "metadata": {
  "kernelspec": {
   "display_name": "AvB",
   "language": "python",
   "name": "python3"
  },
  "language_info": {
   "codemirror_mode": {
    "name": "ipython",
    "version": 3
   },
   "file_extension": ".py",
   "mimetype": "text/x-python",
   "name": "python",
   "nbconvert_exporter": "python",
   "pygments_lexer": "ipython3",
   "version": "3.11.9"
  }
 },
 "nbformat": 4,
 "nbformat_minor": 2
}
