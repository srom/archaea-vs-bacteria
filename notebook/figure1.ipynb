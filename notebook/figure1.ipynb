{
 "cells": [
  {
   "cell_type": "markdown",
   "metadata": {},
   "source": [
    "# Figure 1 plots"
   ]
  },
  {
   "cell_type": "code",
   "execution_count": 26,
   "metadata": {},
   "outputs": [],
   "source": [
    "import os\n",
    "from pathlib import Path\n",
    "import re\n",
    "\n",
    "import numpy as np\n",
    "import pandas as pd\n",
    "import matplotlib.pyplot as plt\n",
    "from matplotlib.ticker import FuncFormatter\n",
    "import seaborn as sns\n",
    "from Bio import Phylo\n",
    "from adjustText import adjust_text\n",
    "\n",
    "cwd = os.getcwd()\n",
    "if cwd.endswith('notebook'):\n",
    "    os.chdir('..')\n",
    "    cwd = os.getcwd()\n",
    "    print(f'Working directory: {cwd}')\n",
    "\n",
    "from src.tree.tree_util import make_phylogenetic_level_tree, prune_leaves_with_unknown_id\n",
    "from src.tree.itol_annotation import itol_heatmap_annotations"
   ]
  },
  {
   "cell_type": "code",
   "execution_count": 2,
   "metadata": {},
   "outputs": [],
   "source": [
    "sns.set_palette('colorblind')\n",
    "sns.set_style('whitegrid')\n",
    "sns.set_context('paper', font_scale=2)\n",
    "\n",
    "palette = sns.color_palette().as_hex()\n",
    "palette_20 = [\n",
    "    '#e6194b', '#3cb44b', '#ffe119', '#4363d8', '#f58231', \n",
    "    '#911eb4', '#46f0f0', '#f032e6', '#bcf60c', '#fabebe', \n",
    "    '#008080', '#e6beff', '#9a6324', '#fffac8', '#800000', \n",
    "    '#aaffc3', '#808000', '#ffd8b1', '#000075', '#808080',\n",
    "]  # Source: https://sashamaps.net/docs/resources/20-colors/\n",
    "\n",
    "data_folder = Path('./data')\n",
    "assert data_folder.is_dir()\n",
    "\n",
    "figures_folder = Path('./figures')\n",
    "assert figures_folder.is_dir()"
   ]
  },
  {
   "cell_type": "markdown",
   "metadata": {},
   "source": [
    "## Heatmap\n",
    "\n",
    "This section produces the following outputs:\n",
    "\n",
    "- Cladogram shown on top of the heatmap (tree files in PhyloXML format)\n",
    "    - Archaea: `data/ar53_phylum_groups.tree`\n",
    "    - Bacteria: `data/bac120_phylum_groups.tree`\n",
    "- Heatmap data in CSV format\n",
    "    - `data/pgh_heatmap.csv`\n",
    "- Heatmap data in [iTOL](https://itol.embl.de) format\n",
    "    - Archaea: `data/ar53_phylum_heatmap.txt`\n",
    "    - Bacteria: `data/bac120_phylum_heatmap.txt`\n",
    "\n",
    "The final figure was generated with [iTOL](https://itol.embl.de) and prettified with Illustrator."
   ]
  },
  {
   "cell_type": "code",
   "execution_count": 3,
   "metadata": {},
   "outputs": [],
   "source": [
    "gtdb_metadata = pd.read_csv(data_folder / 'gtdb_metadata.csv', index_col='ncbi_accession')"
   ]
  },
  {
   "cell_type": "code",
   "execution_count": 4,
   "metadata": {},
   "outputs": [],
   "source": [
    "pgh_domains = pd.read_csv(data_folder / 'pgh_domains.csv')\n",
    "cw_binding_domains_set = set(pgh_domains[pgh_domains['kind'] == 'Cell wall binding']['short_name'].values)\n",
    "hydrolase_domains_set = set(pgh_domains[pgh_domains['kind'] == 'Catalytic']['short_name'].values)"
   ]
  },
  {
   "cell_type": "markdown",
   "metadata": {},
   "source": [
    "### Cladogram at phylum level\n",
    "\n",
    "Cladogram apearing on top of the heatmap."
   ]
  },
  {
   "cell_type": "code",
   "execution_count": 5,
   "metadata": {},
   "outputs": [
    {
     "name": "stdout",
     "output_type": "stream",
     "text": [
      "Bacterial phyla: 90\n",
      "Archaeal phyla : 16\n"
     ]
    }
   ],
   "source": [
    "def is_named_phylum(phylum):\n",
    "    if re.match(r'^[A-Z0-9\\-_]+$', phylum) is not None:\n",
    "        return False\n",
    "    elif re.match(r'^.*[0-9]+.*$', phylum) is not None:\n",
    "        return False\n",
    "    else:\n",
    "        return True\n",
    "    \n",
    "bacterial_named_phyla = sorted([\n",
    "    p\n",
    "    for p in gtdb_metadata[gtdb_metadata['domain'] == 'Bacteria']['gtdb_phylum'].unique()\n",
    "    if is_named_phylum(p)\n",
    "])\n",
    "archaeal_named_phyla = sorted([\n",
    "    p\n",
    "    for p in gtdb_metadata[gtdb_metadata['domain'] == 'Archaea']['gtdb_phylum'].unique()\n",
    "    if is_named_phylum(p)\n",
    "])\n",
    "print(f'Bacterial phyla: {len(bacterial_named_phyla):,}')\n",
    "print(f'Archaeal phyla : {len(archaeal_named_phyla):,}')"
   ]
  },
  {
   "cell_type": "code",
   "execution_count": 6,
   "metadata": {},
   "outputs": [],
   "source": [
    "def get_phylum_groups(phylum_list, gtdb_metadata):\n",
    "    phylum_groups = {}\n",
    "    for phylum in phylum_list:\n",
    "        phylum_group_leader = phylum.split('_')[0]\n",
    "\n",
    "        if phylum_group_leader not in phylum_groups:\n",
    "            phylum_groups[phylum_group_leader] = []\n",
    "\n",
    "        phylum_groups[phylum_group_leader].append(phylum)\n",
    "\n",
    "    counts = {\n",
    "        'phylum_group': [],\n",
    "        'n_genomes': [],\n",
    "    }\n",
    "    for phylum_group in phylum_groups.keys():\n",
    "        phyla = phylum_groups[phylum_group]\n",
    "        c = len(gtdb_metadata[gtdb_metadata['gtdb_phylum'].isin(phyla)])\n",
    "        counts['phylum_group'].append(phylum_group)\n",
    "        counts['n_genomes'].append(c)\n",
    "\n",
    "    counts_df = pd.DataFrame.from_dict(counts).set_index(\n",
    "        'phylum_group', \n",
    "        drop=True,\n",
    "    ).sort_values('n_genomes', ascending=False)\n",
    "\n",
    "    return phylum_groups, counts_df"
   ]
  },
  {
   "cell_type": "code",
   "execution_count": 7,
   "metadata": {},
   "outputs": [
    {
     "name": "stdout",
     "output_type": "stream",
     "text": [
      "Bacterial phylum groups: 71\n",
      "Archaeal phylum groups : 15\n"
     ]
    }
   ],
   "source": [
    "bacterial_phylum_groups, bacterial_phylum_group_count = get_phylum_groups(bacterial_named_phyla, gtdb_metadata)\n",
    "archaeal_phylum_groups, archaeal_phylum_group_count = get_phylum_groups(archaeal_named_phyla, gtdb_metadata)\n",
    "all_phylum_groups_map = bacterial_phylum_groups.copy()\n",
    "all_phylum_groups_map.update(archaeal_phylum_groups)\n",
    "print(f'Bacterial phylum groups: {len(bacterial_phylum_groups):,}')\n",
    "print(f'Archaeal phylum groups : {len(archaeal_phylum_groups):,}')"
   ]
  },
  {
   "cell_type": "code",
   "execution_count": 8,
   "metadata": {},
   "outputs": [],
   "source": [
    "gtdb_phylum_to_phylum_group = {}\n",
    "for phylum_group, phyla in all_phylum_groups_map.items():\n",
    "    for phylum in phyla:\n",
    "        gtdb_phylum_to_phylum_group[phylum] = phylum_group"
   ]
  },
  {
   "cell_type": "code",
   "execution_count": 9,
   "metadata": {},
   "outputs": [
    {
     "name": "stdout",
     "output_type": "stream",
     "text": [
      "34 bacterial phylum groups with at least 80 genomes:\n"
     ]
    }
   ],
   "source": [
    "n = 80\n",
    "df_bac_top = bacterial_phylum_group_count[bacterial_phylum_group_count['n_genomes'] >= n]\n",
    "print(f'{len(df_bac_top):,} bacterial phylum groups with at least {n:,} genomes:')\n",
    "top_bacterial_phylum_groups = sorted(df_bac_top.index)"
   ]
  },
  {
   "cell_type": "code",
   "execution_count": 10,
   "metadata": {},
   "outputs": [
    {
     "data": {
      "text/plain": [
       "(182, 86)"
      ]
     },
     "execution_count": 10,
     "metadata": {},
     "output_type": "execute_result"
    }
   ],
   "source": [
    "gtdb_phyla = gtdb_metadata.reset_index()[['accession', 'domain', 'gtdb_phylum']].copy()\n",
    "gtdb_phyla['phylum_group'] = gtdb_phyla['gtdb_phylum'].apply(\n",
    "    lambda p: gtdb_phylum_to_phylum_group.get(p, p)\n",
    ")\n",
    "gtdb_phyla['phylum_group_strict'] = gtdb_phyla['gtdb_phylum'].apply(\n",
    "    lambda p: gtdb_phylum_to_phylum_group.get(p)\n",
    ")\n",
    "all_phylum_groups = sorted(gtdb_phyla['phylum_group'].unique())\n",
    "phylum_groups_subset = sorted([v for v in gtdb_phyla['phylum_group_strict'].unique() if not pd.isnull(v)])\n",
    "len(all_phylum_groups), len(phylum_groups_subset)"
   ]
  },
  {
   "cell_type": "code",
   "execution_count": 11,
   "metadata": {},
   "outputs": [
    {
     "name": "stdout",
     "output_type": "stream",
     "text": [
      "Number of archaeal phyla: 14\n",
      "Number of bacterial phyla: 34\n",
      "Total: 48\n"
     ]
    }
   ],
   "source": [
    "archaeal_tree = Phylo.read(data_folder / 'ar53.tree', 'phyloxml')\n",
    "bacterial_tree = Phylo.read(data_folder / 'bac120.tree', 'phyloxml')\n",
    "\n",
    "archaeal_phylum_tree = make_phylogenetic_level_tree(archaeal_tree, 'p__')\n",
    "bacterial_phylum_tree = make_phylogenetic_level_tree(bacterial_tree, 'p__')\n",
    "\n",
    "archaeal_phylum_groups_subset_tree = prune_leaves_with_unknown_id(archaeal_phylum_tree, set(phylum_groups_subset))\n",
    "Phylo.write(archaeal_phylum_groups_subset_tree, data_folder / 'ar53_phylum_groups.tree', 'phyloxml')\n",
    "\n",
    "bacterial_phylum_groups_subset_tree = prune_leaves_with_unknown_id(bacterial_phylum_tree, set(top_bacterial_phylum_groups))\n",
    "Phylo.write(bacterial_phylum_groups_subset_tree, data_folder / 'bac120_phylum_groups.tree', 'phyloxml')\n",
    "\n",
    "archaeal_phylum_list = sorted(set([l.name for l in archaeal_phylum_groups_subset_tree.get_terminals()]))\n",
    "bacterial_phylum_list = sorted(set([l.name for l in bacterial_phylum_groups_subset_tree.get_terminals()]))\n",
    "phylum_groups_on_tree = set(bacterial_phylum_list) | set(archaeal_phylum_list)\n",
    "\n",
    "print(f'Number of archaeal phyla: {len(archaeal_phylum_list):,}')\n",
    "print(f'Number of bacterial phyla: {len(bacterial_phylum_list):,}')\n",
    "print(f'Total: {len(phylum_groups_on_tree):,}')"
   ]
  },
  {
   "cell_type": "markdown",
   "metadata": {},
   "source": [
    "### Load PGH hits in archaea & bacteria\n",
    "\n",
    "Generated with `src/search_hydrolase_from_fasta.py`"
   ]
  },
  {
   "cell_type": "code",
   "execution_count": 14,
   "metadata": {},
   "outputs": [
    {
     "name": "stdout",
     "output_type": "stream",
     "text": [
      "137,224 PGH proteins\n"
     ]
    },
    {
     "data": {
      "text/html": [
       "<div>\n",
       "<style scoped>\n",
       "    .dataframe tbody tr th:only-of-type {\n",
       "        vertical-align: middle;\n",
       "    }\n",
       "\n",
       "    .dataframe tbody tr th {\n",
       "        vertical-align: top;\n",
       "    }\n",
       "\n",
       "    .dataframe thead th {\n",
       "        text-align: right;\n",
       "    }\n",
       "</style>\n",
       "<table border=\"1\" class=\"dataframe\">\n",
       "  <thead>\n",
       "    <tr style=\"text-align: right;\">\n",
       "      <th></th>\n",
       "      <th>assembly_accession</th>\n",
       "      <th>domain</th>\n",
       "      <th>gtdb_phylum</th>\n",
       "      <th>gtdb_class</th>\n",
       "      <th>gtdb_order</th>\n",
       "      <th>gtdb_family</th>\n",
       "      <th>gtdb_genus</th>\n",
       "      <th>gtdb_species</th>\n",
       "      <th>ncbi_organism_name</th>\n",
       "      <th>protein_id</th>\n",
       "      <th>pgh_architecture</th>\n",
       "      <th>phylum_group</th>\n",
       "    </tr>\n",
       "  </thead>\n",
       "  <tbody>\n",
       "    <tr>\n",
       "      <th>0</th>\n",
       "      <td>GCA_003663345.1</td>\n",
       "      <td>Archaea</td>\n",
       "      <td>Aenigmatarchaeota</td>\n",
       "      <td>Aenigmatarchaeia</td>\n",
       "      <td>PWEA01</td>\n",
       "      <td>B50-G16</td>\n",
       "      <td>B50-G16</td>\n",
       "      <td>B50-G16 sp003663345</td>\n",
       "      <td>Candidatus Aenigmarchaeota archaeon</td>\n",
       "      <td>RLJ01288.1</td>\n",
       "      <td>PG_binding_3+Glyco_hydro_108</td>\n",
       "      <td>Aenigmatarchaeota</td>\n",
       "    </tr>\n",
       "    <tr>\n",
       "      <th>1</th>\n",
       "      <td>GCA_018304545.1</td>\n",
       "      <td>Archaea</td>\n",
       "      <td>Aenigmatarchaeota</td>\n",
       "      <td>Aenigmatarchaeia</td>\n",
       "      <td>CG10238-14</td>\n",
       "      <td>CG10238-14</td>\n",
       "      <td>JAGVVZ01</td>\n",
       "      <td>JAGVVZ01 sp018304545</td>\n",
       "      <td>Candidatus Aenigmarchaeota archaeon</td>\n",
       "      <td>MBS3052716.1</td>\n",
       "      <td>LysM+Amidase_2</td>\n",
       "      <td>Aenigmatarchaeota</td>\n",
       "    </tr>\n",
       "    <tr>\n",
       "      <th>2</th>\n",
       "      <td>GCA_025058005.1</td>\n",
       "      <td>Archaea</td>\n",
       "      <td>Aenigmatarchaeota</td>\n",
       "      <td>Aenigmatarchaeia</td>\n",
       "      <td>CG10238-14</td>\n",
       "      <td>CG10238-14</td>\n",
       "      <td>JAHLMN01</td>\n",
       "      <td>JAHLMN01 sp025058005</td>\n",
       "      <td>Candidatus Aenigmarchaeota archaeon</td>\n",
       "      <td>MCS7135447.1</td>\n",
       "      <td>LysM+NLPC_P60</td>\n",
       "      <td>Aenigmatarchaeota</td>\n",
       "    </tr>\n",
       "    <tr>\n",
       "      <th>3</th>\n",
       "      <td>GCA_015661515.1</td>\n",
       "      <td>Archaea</td>\n",
       "      <td>Aenigmatarchaeota</td>\n",
       "      <td>Aenigmatarchaeia</td>\n",
       "      <td>Aenigmatarchaeales</td>\n",
       "      <td>SZUA-1535</td>\n",
       "      <td>SZUA-1535</td>\n",
       "      <td>SZUA-1535 sp015661515</td>\n",
       "      <td>Nanoarchaeota archaeon</td>\n",
       "      <td>HIQ49991.1</td>\n",
       "      <td>PG_binding_3+Glyco_hydro_108</td>\n",
       "      <td>Aenigmatarchaeota</td>\n",
       "    </tr>\n",
       "    <tr>\n",
       "      <th>4</th>\n",
       "      <td>GCA_902384455.1</td>\n",
       "      <td>Archaea</td>\n",
       "      <td>Altiarchaeota</td>\n",
       "      <td>Altiarchaeia</td>\n",
       "      <td>IMC4</td>\n",
       "      <td>SCGC-AAA252-I15</td>\n",
       "      <td>CABMCB01</td>\n",
       "      <td>CABMCB01 sp902384455</td>\n",
       "      <td>uncultured archaeon</td>\n",
       "      <td>VVB52780.1</td>\n",
       "      <td>PG_binding_3+Glyco_hydro_108</td>\n",
       "      <td>Altiarchaeota</td>\n",
       "    </tr>\n",
       "  </tbody>\n",
       "</table>\n",
       "</div>"
      ],
      "text/plain": [
       "  assembly_accession   domain        gtdb_phylum        gtdb_class  \\\n",
       "0    GCA_003663345.1  Archaea  Aenigmatarchaeota  Aenigmatarchaeia   \n",
       "1    GCA_018304545.1  Archaea  Aenigmatarchaeota  Aenigmatarchaeia   \n",
       "2    GCA_025058005.1  Archaea  Aenigmatarchaeota  Aenigmatarchaeia   \n",
       "3    GCA_015661515.1  Archaea  Aenigmatarchaeota  Aenigmatarchaeia   \n",
       "4    GCA_902384455.1  Archaea      Altiarchaeota      Altiarchaeia   \n",
       "\n",
       "           gtdb_order      gtdb_family gtdb_genus           gtdb_species  \\\n",
       "0              PWEA01          B50-G16    B50-G16    B50-G16 sp003663345   \n",
       "1          CG10238-14       CG10238-14   JAGVVZ01   JAGVVZ01 sp018304545   \n",
       "2          CG10238-14       CG10238-14   JAHLMN01   JAHLMN01 sp025058005   \n",
       "3  Aenigmatarchaeales        SZUA-1535  SZUA-1535  SZUA-1535 sp015661515   \n",
       "4                IMC4  SCGC-AAA252-I15   CABMCB01   CABMCB01 sp902384455   \n",
       "\n",
       "                    ncbi_organism_name    protein_id  \\\n",
       "0  Candidatus Aenigmarchaeota archaeon    RLJ01288.1   \n",
       "1  Candidatus Aenigmarchaeota archaeon  MBS3052716.1   \n",
       "2  Candidatus Aenigmarchaeota archaeon  MCS7135447.1   \n",
       "3               Nanoarchaeota archaeon    HIQ49991.1   \n",
       "4                  uncultured archaeon    VVB52780.1   \n",
       "\n",
       "               pgh_architecture       phylum_group  \n",
       "0  PG_binding_3+Glyco_hydro_108  Aenigmatarchaeota  \n",
       "1                LysM+Amidase_2  Aenigmatarchaeota  \n",
       "2                 LysM+NLPC_P60  Aenigmatarchaeota  \n",
       "3  PG_binding_3+Glyco_hydro_108  Aenigmatarchaeota  \n",
       "4  PG_binding_3+Glyco_hydro_108      Altiarchaeota  "
      ]
     },
     "execution_count": 14,
     "metadata": {},
     "output_type": "execute_result"
    }
   ],
   "source": [
    "pgh_df = pd.read_csv(data_folder / 'pgh_proteins.csv')\n",
    "\n",
    "pgh_df['phylum_group'] = pgh_df['gtdb_phylum'].apply(\n",
    "    lambda p: gtdb_phylum_to_phylum_group.get(p, p)\n",
    ")\n",
    "\n",
    "n_pgh = len(pgh_df)\n",
    "print(f'{n_pgh:,} PGH proteins')\n",
    "\n",
    "pgh_df.head()"
   ]
  },
  {
   "cell_type": "code",
   "execution_count": 17,
   "metadata": {},
   "outputs": [
    {
     "name": "stdout",
     "output_type": "stream",
     "text": [
      "Number of PGH architectures present in Archaea: 29\n"
     ]
    }
   ],
   "source": [
    "domain_architectures = sorted(pgh_df[\n",
    "    (pgh_df['domain'] == 'Archaea') &\n",
    "    (pgh_df['phylum_group'].isin(sorted(phylum_groups_on_tree)))\n",
    "]['pgh_architecture'].unique())\n",
    "\n",
    "print(f'Number of PGH architectures present in Archaea: {len(domain_architectures):,}')"
   ]
  },
  {
   "cell_type": "markdown",
   "metadata": {},
   "source": [
    "### Heatmap data"
   ]
  },
  {
   "cell_type": "code",
   "execution_count": 19,
   "metadata": {},
   "outputs": [
    {
     "name": "stdout",
     "output_type": "stream",
     "text": [
      "Number of PGH proteins with shared architecture between archaea and bacteria: 92,984 (68 % of total)\n"
     ]
    }
   ],
   "source": [
    "pgh_subset = pgh_df[pgh_df['pgh_architecture'].isin(domain_architectures)].reset_index(drop=True)\n",
    "print(f'Number of PGH proteins with shared architecture between archaea and bacteria: {len(pgh_subset):,} ({100 * len(pgh_subset) / len(pgh_df):.0f} % of total)')"
   ]
  },
  {
   "cell_type": "code",
   "execution_count": 28,
   "metadata": {},
   "outputs": [
    {
     "data": {
      "text/html": [
       "<div>\n",
       "<style scoped>\n",
       "    .dataframe tbody tr th:only-of-type {\n",
       "        vertical-align: middle;\n",
       "    }\n",
       "\n",
       "    .dataframe tbody tr th {\n",
       "        vertical-align: top;\n",
       "    }\n",
       "\n",
       "    .dataframe thead th {\n",
       "        text-align: right;\n",
       "    }\n",
       "</style>\n",
       "<table border=\"1\" class=\"dataframe\">\n",
       "  <thead>\n",
       "    <tr style=\"text-align: right;\">\n",
       "      <th></th>\n",
       "      <th>domain</th>\n",
       "      <th>n_genomes_total</th>\n",
       "      <th>pgh_architecture</th>\n",
       "      <th>n_genomes</th>\n",
       "      <th>percentage</th>\n",
       "    </tr>\n",
       "    <tr>\n",
       "      <th>phylum_group</th>\n",
       "      <th></th>\n",
       "      <th></th>\n",
       "      <th></th>\n",
       "      <th></th>\n",
       "      <th></th>\n",
       "    </tr>\n",
       "  </thead>\n",
       "  <tbody>\n",
       "    <tr>\n",
       "      <th>Acidobacteriota</th>\n",
       "      <td>Bacteria</td>\n",
       "      <td>1094</td>\n",
       "      <td>LysM+SLT</td>\n",
       "      <td>929</td>\n",
       "      <td>84.918</td>\n",
       "    </tr>\n",
       "    <tr>\n",
       "      <th>Acidobacteriota</th>\n",
       "      <td>Bacteria</td>\n",
       "      <td>1094</td>\n",
       "      <td>AMIN+Amidase_3</td>\n",
       "      <td>632</td>\n",
       "      <td>57.770</td>\n",
       "    </tr>\n",
       "    <tr>\n",
       "      <th>Acidobacteriota</th>\n",
       "      <td>Bacteria</td>\n",
       "      <td>1094</td>\n",
       "      <td>SH3_4+NLPC_P60</td>\n",
       "      <td>58</td>\n",
       "      <td>5.302</td>\n",
       "    </tr>\n",
       "    <tr>\n",
       "      <th>Acidobacteriota</th>\n",
       "      <td>Bacteria</td>\n",
       "      <td>1094</td>\n",
       "      <td>LysM+Peptidase_M23</td>\n",
       "      <td>52</td>\n",
       "      <td>4.753</td>\n",
       "    </tr>\n",
       "    <tr>\n",
       "      <th>Acidobacteriota</th>\n",
       "      <td>Bacteria</td>\n",
       "      <td>1094</td>\n",
       "      <td>SH3_3+NLPC_P60</td>\n",
       "      <td>39</td>\n",
       "      <td>3.565</td>\n",
       "    </tr>\n",
       "  </tbody>\n",
       "</table>\n",
       "</div>"
      ],
      "text/plain": [
       "                   domain  n_genomes_total    pgh_architecture  n_genomes  \\\n",
       "phylum_group                                                                \n",
       "Acidobacteriota  Bacteria             1094            LysM+SLT        929   \n",
       "Acidobacteriota  Bacteria             1094      AMIN+Amidase_3        632   \n",
       "Acidobacteriota  Bacteria             1094      SH3_4+NLPC_P60         58   \n",
       "Acidobacteriota  Bacteria             1094  LysM+Peptidase_M23         52   \n",
       "Acidobacteriota  Bacteria             1094      SH3_3+NLPC_P60         39   \n",
       "\n",
       "                 percentage  \n",
       "phylum_group                 \n",
       "Acidobacteriota      84.918  \n",
       "Acidobacteriota      57.770  \n",
       "Acidobacteriota       5.302  \n",
       "Acidobacteriota       4.753  \n",
       "Acidobacteriota       3.565  "
      ]
     },
     "execution_count": 28,
     "metadata": {},
     "output_type": "execute_result"
    }
   ],
   "source": [
    "def apply_phylum_group(phylum):\n",
    "    phylum_group = gtdb_phylum_to_phylum_group.get(phylum, 'other')\n",
    "    \n",
    "    if phylum_group not in phylum_groups_on_tree:\n",
    "        if gtdb_metadata[gtdb_metadata['gtdb_phylum'] == phylum].iloc[0]['domain'] == 'Archaea':\n",
    "            return 'other_archaea'\n",
    "        else:\n",
    "            return 'other_bacteria'\n",
    "    else:\n",
    "        return phylum_group\n",
    "\n",
    "\n",
    "n_unique_accessions = pgh_subset[\n",
    "    ['phylum_group', 'pgh_architecture', 'assembly_accession']\n",
    "].groupby(\n",
    "    ['phylum_group', 'pgh_architecture']\n",
    ").nunique().rename(columns={'assembly_accession': 'n_genomes'}).reset_index()\n",
    "\n",
    "metadata = gtdb_metadata.reset_index()[['ncbi_accession', 'gtdb_phylum', 'domain']].copy()\n",
    "metadata['phylum_group'] = metadata['gtdb_phylum'].apply(apply_phylum_group)\n",
    "\n",
    "n_total_accessions = metadata[\n",
    "    ['phylum_group', 'ncbi_accession', 'domain']\n",
    "].groupby(['phylum_group', 'domain']).nunique().rename(columns={'ncbi_accession': 'n_genomes_total'}).reset_index()\n",
    "\n",
    "heatmap_df = pd.merge(\n",
    "    n_total_accessions,\n",
    "    n_unique_accessions,\n",
    "    how='left',\n",
    "    on='phylum_group',\n",
    ")\n",
    "heatmap_df['n_genomes'] = heatmap_df['n_genomes'].fillna(0).astype(int)\n",
    "heatmap_df = heatmap_df.sort_values(['phylum_group', 'n_genomes'], ascending=[True, False]).set_index('phylum_group', drop=True)\n",
    "\n",
    "heatmap_df['percentage'] = (100 * heatmap_df['n_genomes'] / heatmap_df['n_genomes_total']).round(3)\n",
    "\n",
    "heatmap_df.head()"
   ]
  },
  {
   "cell_type": "code",
   "execution_count": 29,
   "metadata": {},
   "outputs": [],
   "source": [
    "heatmap_df.to_csv(data_folder / 'pgh_heatmap.csv', index=True)"
   ]
  },
  {
   "cell_type": "code",
   "execution_count": 30,
   "metadata": {},
   "outputs": [],
   "source": [
    "def make_heatmap_list(heatmap_df, phylum_groups, architectures, log=False):\n",
    "    heatmap_data = []\n",
    "    for phylum in phylum_groups:\n",
    "        row = [phylum]\n",
    "        heatmap_rows = heatmap_df.loc[[phylum]].set_index('pgh_architecture', drop=True)\n",
    "        existing_args = heatmap_rows.index\n",
    "        for arch in architectures:\n",
    "            if arch in existing_args:\n",
    "                c = heatmap_rows.loc[arch, 'percentage']\n",
    "                if log:\n",
    "                    c = np.log10(1 + c)\n",
    "            else:\n",
    "                c = 0.0\n",
    "            \n",
    "            row.append(np.round(c, 3))\n",
    "\n",
    "        heatmap_data.append(row)\n",
    "\n",
    "    return heatmap_data"
   ]
  },
  {
   "cell_type": "code",
   "execution_count": 31,
   "metadata": {},
   "outputs": [],
   "source": [
    "archaeal_heatmap = make_heatmap_list(heatmap_df, archaeal_phylum_list, domain_architectures)\n",
    "bacterial_heatmap = make_heatmap_list(heatmap_df, bacterial_phylum_list, domain_architectures)\n",
    "\n",
    "itol_heatmap_annotations(\n",
    "    archaeal_heatmap,\n",
    "    field_labels=domain_architectures,\n",
    "    output_path=data_folder / 'ar53_phylum_heatmap.txt',\n",
    "    dataset_label='% archaeal genomes in phylum',\n",
    "    color_min='#ffffff',\n",
    "    color_max='#f58231',\n",
    "    min_value=0,\n",
    "    max_value=5,\n",
    ")\n",
    "\n",
    "itol_heatmap_annotations(\n",
    "    bacterial_heatmap,\n",
    "    field_labels=domain_architectures,\n",
    "    output_path=data_folder / 'bac120_phylum_heatmap.txt',\n",
    "    dataset_label='% bacterial genomes in phylum',\n",
    "    color_min='#ffffff',\n",
    "    color_max='#0173b2',\n",
    "    min_value=0,\n",
    "    max_value=100,\n",
    ")"
   ]
  },
  {
   "cell_type": "markdown",
   "metadata": {},
   "source": [
    "## Signal peptide stacked bar chart"
   ]
  },
  {
   "cell_type": "markdown",
   "metadata": {},
   "source": [
    "### Load signalP output\n",
    "\n",
    "Generated from script `src/predict_signalp.py`"
   ]
  },
  {
   "cell_type": "code",
   "execution_count": 8,
   "metadata": {},
   "outputs": [
    {
     "data": {
      "text/html": [
       "<div>\n",
       "<style scoped>\n",
       "    .dataframe tbody tr th:only-of-type {\n",
       "        vertical-align: middle;\n",
       "    }\n",
       "\n",
       "    .dataframe tbody tr th {\n",
       "        vertical-align: top;\n",
       "    }\n",
       "\n",
       "    .dataframe thead th {\n",
       "        text-align: right;\n",
       "    }\n",
       "</style>\n",
       "<table border=\"1\" class=\"dataframe\">\n",
       "  <thead>\n",
       "    <tr style=\"text-align: right;\">\n",
       "      <th></th>\n",
       "      <th>protein_id</th>\n",
       "      <th>signal_peptide</th>\n",
       "      <th>probability</th>\n",
       "      <th>cleavage_site</th>\n",
       "      <th>cleavage_site_prob</th>\n",
       "      <th>assembly_accession</th>\n",
       "      <th>pathway</th>\n",
       "    </tr>\n",
       "  </thead>\n",
       "  <tbody>\n",
       "    <tr>\n",
       "      <th>0</th>\n",
       "      <td>BAC24414.1</td>\n",
       "      <td>Sec/SPII</td>\n",
       "      <td>0.987955</td>\n",
       "      <td>24-25</td>\n",
       "      <td>0.966853</td>\n",
       "      <td>GCA_000008885.1</td>\n",
       "      <td>Sec</td>\n",
       "    </tr>\n",
       "    <tr>\n",
       "      <th>1</th>\n",
       "      <td>BAF58967.1</td>\n",
       "      <td>Sec/SPII</td>\n",
       "      <td>0.685612</td>\n",
       "      <td>22-23</td>\n",
       "      <td>0.602861</td>\n",
       "      <td>GCA_000010565.1</td>\n",
       "      <td>Sec</td>\n",
       "    </tr>\n",
       "    <tr>\n",
       "      <th>2</th>\n",
       "      <td>BAF61015.1</td>\n",
       "      <td>Sec/SPI</td>\n",
       "      <td>0.998938</td>\n",
       "      <td>33-34</td>\n",
       "      <td>0.969633</td>\n",
       "      <td>GCA_000010565.1</td>\n",
       "      <td>Sec</td>\n",
       "    </tr>\n",
       "    <tr>\n",
       "      <th>3</th>\n",
       "      <td>BAG83382.1</td>\n",
       "      <td>Sec/SPI</td>\n",
       "      <td>0.786221</td>\n",
       "      <td>29-30</td>\n",
       "      <td>0.700540</td>\n",
       "      <td>GCA_000010645.1</td>\n",
       "      <td>Sec</td>\n",
       "    </tr>\n",
       "    <tr>\n",
       "      <th>4</th>\n",
       "      <td>ABG39042.1</td>\n",
       "      <td>Sec/SPI</td>\n",
       "      <td>0.868330</td>\n",
       "      <td>44-45</td>\n",
       "      <td>0.823325</td>\n",
       "      <td>GCA_000014225.1</td>\n",
       "      <td>Sec</td>\n",
       "    </tr>\n",
       "  </tbody>\n",
       "</table>\n",
       "</div>"
      ],
      "text/plain": [
       "   protein_id signal_peptide  probability cleavage_site  cleavage_site_prob  \\\n",
       "0  BAC24414.1       Sec/SPII     0.987955         24-25            0.966853   \n",
       "1  BAF58967.1       Sec/SPII     0.685612         22-23            0.602861   \n",
       "2  BAF61015.1        Sec/SPI     0.998938         33-34            0.969633   \n",
       "3  BAG83382.1        Sec/SPI     0.786221         29-30            0.700540   \n",
       "4  ABG39042.1        Sec/SPI     0.868330         44-45            0.823325   \n",
       "\n",
       "  assembly_accession pathway  \n",
       "0    GCA_000008885.1     Sec  \n",
       "1    GCA_000010565.1     Sec  \n",
       "2    GCA_000010565.1     Sec  \n",
       "3    GCA_000010645.1     Sec  \n",
       "4    GCA_000014225.1     Sec  "
      ]
     },
     "execution_count": 8,
     "metadata": {},
     "output_type": "execute_result"
    }
   ],
   "source": [
    "signalp_output = pd.read_csv(data_folder / 'signalp6_output.csv')\n",
    "signalp_output['assembly_accession'] = signalp_output['protein_id'].apply(\n",
    "    lambda p: p.split('@')[1] if '@' in p else None\n",
    ")\n",
    "signalp_output['protein_id'] = signalp_output['protein_id'].apply(\n",
    "    lambda p: p.split('@')[0] if '@' in p else p\n",
    ")\n",
    "signalp_output['pathway'] = signalp_output['signal_peptide'].apply(lambda sp: sp.split('/')[0])\n",
    "signalp_output.head()"
   ]
  },
  {
   "cell_type": "markdown",
   "metadata": {},
   "source": [
    "### Add domain information to signalP output"
   ]
  },
  {
   "cell_type": "code",
   "execution_count": 9,
   "metadata": {},
   "outputs": [
    {
     "data": {
      "text/html": [
       "<div>\n",
       "<style scoped>\n",
       "    .dataframe tbody tr th:only-of-type {\n",
       "        vertical-align: middle;\n",
       "    }\n",
       "\n",
       "    .dataframe tbody tr th {\n",
       "        vertical-align: top;\n",
       "    }\n",
       "\n",
       "    .dataframe thead th {\n",
       "        text-align: right;\n",
       "    }\n",
       "</style>\n",
       "<table border=\"1\" class=\"dataframe\">\n",
       "  <thead>\n",
       "    <tr style=\"text-align: right;\">\n",
       "      <th></th>\n",
       "      <th>protein_id</th>\n",
       "      <th>signal_peptide</th>\n",
       "      <th>probability</th>\n",
       "      <th>cleavage_site</th>\n",
       "      <th>cleavage_site_prob</th>\n",
       "      <th>assembly_accession</th>\n",
       "      <th>pathway</th>\n",
       "      <th>domain</th>\n",
       "    </tr>\n",
       "  </thead>\n",
       "  <tbody>\n",
       "    <tr>\n",
       "      <th>0</th>\n",
       "      <td>BAC24414.1</td>\n",
       "      <td>Sec/SPII</td>\n",
       "      <td>0.987955</td>\n",
       "      <td>24-25</td>\n",
       "      <td>0.966853</td>\n",
       "      <td>GCA_000008885.1</td>\n",
       "      <td>Sec</td>\n",
       "      <td>Bacteria</td>\n",
       "    </tr>\n",
       "    <tr>\n",
       "      <th>1</th>\n",
       "      <td>BAF58967.1</td>\n",
       "      <td>Sec/SPII</td>\n",
       "      <td>0.685612</td>\n",
       "      <td>22-23</td>\n",
       "      <td>0.602861</td>\n",
       "      <td>GCA_000010565.1</td>\n",
       "      <td>Sec</td>\n",
       "      <td>Bacteria</td>\n",
       "    </tr>\n",
       "    <tr>\n",
       "      <th>2</th>\n",
       "      <td>BAF61015.1</td>\n",
       "      <td>Sec/SPI</td>\n",
       "      <td>0.998938</td>\n",
       "      <td>33-34</td>\n",
       "      <td>0.969633</td>\n",
       "      <td>GCA_000010565.1</td>\n",
       "      <td>Sec</td>\n",
       "      <td>Bacteria</td>\n",
       "    </tr>\n",
       "    <tr>\n",
       "      <th>3</th>\n",
       "      <td>BAG83382.1</td>\n",
       "      <td>Sec/SPI</td>\n",
       "      <td>0.786221</td>\n",
       "      <td>29-30</td>\n",
       "      <td>0.700540</td>\n",
       "      <td>GCA_000010645.1</td>\n",
       "      <td>Sec</td>\n",
       "      <td>Bacteria</td>\n",
       "    </tr>\n",
       "    <tr>\n",
       "      <th>4</th>\n",
       "      <td>ABG39042.1</td>\n",
       "      <td>Sec/SPI</td>\n",
       "      <td>0.868330</td>\n",
       "      <td>44-45</td>\n",
       "      <td>0.823325</td>\n",
       "      <td>GCA_000014225.1</td>\n",
       "      <td>Sec</td>\n",
       "      <td>Bacteria</td>\n",
       "    </tr>\n",
       "  </tbody>\n",
       "</table>\n",
       "</div>"
      ],
      "text/plain": [
       "   protein_id signal_peptide  probability cleavage_site  cleavage_site_prob  \\\n",
       "0  BAC24414.1       Sec/SPII     0.987955         24-25            0.966853   \n",
       "1  BAF58967.1       Sec/SPII     0.685612         22-23            0.602861   \n",
       "2  BAF61015.1        Sec/SPI     0.998938         33-34            0.969633   \n",
       "3  BAG83382.1        Sec/SPI     0.786221         29-30            0.700540   \n",
       "4  ABG39042.1        Sec/SPI     0.868330         44-45            0.823325   \n",
       "\n",
       "  assembly_accession pathway    domain  \n",
       "0    GCA_000008885.1     Sec  Bacteria  \n",
       "1    GCA_000010565.1     Sec  Bacteria  \n",
       "2    GCA_000010565.1     Sec  Bacteria  \n",
       "3    GCA_000010645.1     Sec  Bacteria  \n",
       "4    GCA_000014225.1     Sec  Bacteria  "
      ]
     },
     "execution_count": 9,
     "metadata": {},
     "output_type": "execute_result"
    }
   ],
   "source": [
    "signalp_dataset = pd.merge(\n",
    "    signalp_output,\n",
    "    gtdb_metadata.reset_index()[['ncbi_accession', 'domain']].rename(columns={\n",
    "        'ncbi_accession': 'assembly_accession'\n",
    "    }),\n",
    "    on='assembly_accession',\n",
    "    how='inner',\n",
    ")\n",
    "signalp_dataset.head()"
   ]
  },
  {
   "cell_type": "markdown",
   "metadata": {},
   "source": [
    "## Bar plot: distribution of signal peptide types in each domain"
   ]
  },
  {
   "cell_type": "code",
   "execution_count": 55,
   "metadata": {},
   "outputs": [
    {
     "data": {
      "text/html": [
       "<div>\n",
       "<style scoped>\n",
       "    .dataframe tbody tr th:only-of-type {\n",
       "        vertical-align: middle;\n",
       "    }\n",
       "\n",
       "    .dataframe tbody tr th {\n",
       "        vertical-align: top;\n",
       "    }\n",
       "\n",
       "    .dataframe thead th {\n",
       "        text-align: right;\n",
       "    }\n",
       "</style>\n",
       "<table border=\"1\" class=\"dataframe\">\n",
       "  <thead>\n",
       "    <tr style=\"text-align: right;\">\n",
       "      <th></th>\n",
       "      <th></th>\n",
       "      <th>assembly_accession</th>\n",
       "      <th>total</th>\n",
       "      <th>percent</th>\n",
       "    </tr>\n",
       "    <tr>\n",
       "      <th>domain</th>\n",
       "      <th>pathway</th>\n",
       "      <th></th>\n",
       "      <th></th>\n",
       "      <th></th>\n",
       "    </tr>\n",
       "  </thead>\n",
       "  <tbody>\n",
       "    <tr>\n",
       "      <th rowspan=\"2\" valign=\"top\">Bacteria</th>\n",
       "      <th>Sec</th>\n",
       "      <td>34972</td>\n",
       "      <td>38170</td>\n",
       "      <td>91.62</td>\n",
       "    </tr>\n",
       "    <tr>\n",
       "      <th>Tat</th>\n",
       "      <td>3198</td>\n",
       "      <td>38170</td>\n",
       "      <td>8.38</td>\n",
       "    </tr>\n",
       "    <tr>\n",
       "      <th rowspan=\"2\" valign=\"top\">Archaea</th>\n",
       "      <th>Sec</th>\n",
       "      <td>36</td>\n",
       "      <td>55</td>\n",
       "      <td>65.45</td>\n",
       "    </tr>\n",
       "    <tr>\n",
       "      <th>Tat</th>\n",
       "      <td>19</td>\n",
       "      <td>55</td>\n",
       "      <td>34.55</td>\n",
       "    </tr>\n",
       "  </tbody>\n",
       "</table>\n",
       "</div>"
      ],
      "text/plain": [
       "                  assembly_accession  total  percent\n",
       "domain   pathway                                    \n",
       "Bacteria Sec                   34972  38170    91.62\n",
       "         Tat                    3198  38170     8.38\n",
       "Archaea  Sec                      36     55    65.45\n",
       "         Tat                      19     55    34.55"
      ]
     },
     "execution_count": 55,
     "metadata": {},
     "output_type": "execute_result"
    }
   ],
   "source": [
    "pathway_per_domain = signalp_dataset[\n",
    "    ['domain', 'pathway', 'assembly_accession']\n",
    "].groupby(\n",
    "    ['domain', 'pathway']\n",
    ").nunique().sort_values('assembly_accession', ascending=False)\n",
    "\n",
    "def total_per_domain_fn():\n",
    "    total_bacteria = pathway_per_domain.loc['Bacteria'].sum()\n",
    "    total_archaea = pathway_per_domain.loc['Archaea'].sum()\n",
    "\n",
    "    def fn(row):\n",
    "        domain, _ = row.name\n",
    "        return  total_bacteria if domain == 'Bacteria' else total_archaea\n",
    "\n",
    "    return fn\n",
    "\n",
    "pathway_per_domain['total'] = pathway_per_domain.apply(total_per_domain_fn(), axis=1)\n",
    "pathway_per_domain['percent'] = (100 * pathway_per_domain['assembly_accession'] / pathway_per_domain['total']).round(2)\n",
    "\n",
    "pathway_per_domain"
   ]
  },
  {
   "cell_type": "code",
   "execution_count": 56,
   "metadata": {},
   "outputs": [
    {
     "data": {
      "image/png": "[encoded data removed]",
      "text/plain": [
       "<Figure size 400x500 with 1 Axes>"
      ]
     },
     "metadata": {},
     "output_type": "display_data"
    }
   ],
   "source": [
    "pivot_df = pathway_per_domain.reset_index().pivot(index='domain', columns='pathway', values='percent')\n",
    "\n",
    "f, ax = plt.subplots(1, 1, figsize=(4, 5))\n",
    "\n",
    "pivot_df.plot(kind='bar', stacked=True, ax=ax, color=['#999999', '#555555', '#111111'], width=0.4);\n",
    "\n",
    "ax.set_xlabel('');\n",
    "ax.set_ylabel('% proteins with signal peptide');\n",
    "\n",
    "plt.xticks(rotation=0);\n",
    "\n",
    "ax.legend(bbox_to_anchor=(1, 1), loc='upper left');\n",
    "\n",
    "ax.set_title('Signal peptides');\n",
    "\n",
    "f.savefig(figures_folder / 'figure1' / 'signal_peptides.pdf', dpi=300, bbox_inches='tight');"
   ]
  },
  {
   "cell_type": "markdown",
   "metadata": {},
   "source": [
    "## Percentage genomes per PGH architectures\n",
    "\n",
    "Raw figure generated below. In the final figure, labels have been manually moved to prevent overlaps."
   ]
  },
  {
   "cell_type": "code",
   "execution_count": 32,
   "metadata": {},
   "outputs": [],
   "source": [
    "genomes_per_domain = heatmap_df.reset_index()[\n",
    "    ['domain', 'pgh_architecture', 'n_genomes']\n",
    "].groupby(\n",
    "    ['domain', 'pgh_architecture']\n",
    ").sum().sort_values('n_genomes', ascending=False)\n",
    "\n",
    "def n_genomes_per_domain_fn():\n",
    "    n_genomes_per_domain = gtdb_metadata.reset_index()[['domain', 'ncbi_accession']].groupby('domain').count()\n",
    "\n",
    "    def fn(row):\n",
    "        domain, _ = row.name\n",
    "        return n_genomes_per_domain.loc[domain, 'ncbi_accession']\n",
    "\n",
    "    return fn\n",
    "\n",
    "genomes_per_domain['n_genomes_total'] = genomes_per_domain.apply(n_genomes_per_domain_fn(), axis=1)\n",
    "\n",
    "genomes_per_domain['percent'] = (100 * genomes_per_domain['n_genomes'] / genomes_per_domain['n_genomes_total']).round(2)"
   ]
  },
  {
   "cell_type": "code",
   "execution_count": 37,
   "metadata": {},
   "outputs": [
    {
     "data": {
      "image/png": "[encoded data removed]",
      "text/plain": [
       "<Figure size 800x800 with 1 Axes>"
      ]
     },
     "metadata": {},
     "output_type": "display_data"
    }
   ],
   "source": [
    "pivot_df = genomes_per_domain.reset_index()[\n",
    "    ['domain', 'pgh_architecture', 'percent']\n",
    "].pivot(index='pgh_architecture', columns='domain', values='percent')\n",
    "\n",
    "f, ax = plt.subplots(1, 1, figsize=(8, 8))\n",
    "\n",
    "pivot_df.plot.scatter(x='Archaea', y='Bacteria', s=20, c='#000000', ax=ax)\n",
    "\n",
    "ax.set_xscale('log')\n",
    "ax.set_yscale('log')\n",
    "\n",
    "ax.set_xlim((5e-3, 100))\n",
    "ax.set_ylim((5e-3, 100))\n",
    "\n",
    "formatter = FuncFormatter(lambda y, _: '{:g}'.format(y))\n",
    "ax.yaxis.set_major_formatter(formatter)\n",
    "ax.xaxis.set_major_formatter(formatter)\n",
    "\n",
    "x = range(-10, 110)\n",
    "ax.plot(x, x, '--', color='#cccccc')\n",
    "\n",
    "ax.set_xlabel('% archaeal genomes (log)');\n",
    "ax.set_ylabel('% bacterial genomes (log)');\n",
    "ax.set_title('% of genomes per PGH architecture');\n",
    "\n",
    "texts = []\n",
    "architectures_to_highlight = {\n",
    "    'LysM+Peptidase_M23',\n",
    "    'LysM+SLT',\n",
    "    'AMIN+Amidase_3',\n",
    "    'PG_binding_3+Glyco_hydro_108',\n",
    "    'SH3_16+NLPC_P60',\n",
    "    'PG_binding_1+Amidase_2',\n",
    "    'LysM+Amidase_6',\n",
    "    'PG_binding_3+Glyco_hydro_108+Peptidase_M23',\n",
    "}\n",
    "for i, row in pivot_df.reset_index().iterrows():\n",
    "    if row['pgh_architecture'] in architectures_to_highlight:\n",
    "        a = ax.text(\n",
    "            row['Archaea'],\n",
    "            row['Bacteria'],\n",
    "            row['pgh_architecture'].replace('_', ' ').replace('+', ' + '), \n",
    "            fontsize=14, \n",
    "            ha='center',\n",
    "            va='center',\n",
    "        )\n",
    "        texts.append(a)\n",
    "\n",
    "adjust_text(texts, arrowprops=dict(arrowstyle='-', color='black', lw=1.0, shrinkA=0, shrinkB=5));\n",
    "\n",
    "f.savefig(figures_folder / 'figure1' / 'pgh_abundance_genomes_raw.pdf', dpi=300);"
   ]
  },
  {
   "cell_type": "markdown",
   "metadata": {},
   "source": [
    "## Number of archaeal proteins in genome"
   ]
  },
  {
   "cell_type": "code",
   "execution_count": 43,
   "metadata": {},
   "outputs": [
    {
     "data": {
      "image/png": "[encoded data removed]",
      "text/plain": [
       "<Figure size 500x300 with 1 Axes>"
      ]
     },
     "metadata": {},
     "output_type": "display_data"
    }
   ],
   "source": [
    "n_proteins_per_genome = pgh_df[\n",
    "    ['domain', 'assembly_accession', 'protein_id']\n",
    "].groupby(\n",
    "    ['domain', 'assembly_accession']\n",
    ").count().reset_index().groupby([\n",
    "    'domain', 'protein_id'\n",
    "]).count()\n",
    "\n",
    "n_proteins_per_genome_arc = n_proteins_per_genome.loc['Archaea']\n",
    "\n",
    "f, ax = plt.subplots(1, 1, figsize=(5, 3))\n",
    "\n",
    "n_proteins_per_genome_arc.plot(kind='bar', width=0.1, ax=ax, color='#111111');\n",
    "plt.xticks(rotation=0);\n",
    "ax.get_legend().remove()\n",
    "ax.set_xlabel('');\n",
    "ax.set_title('# archaeal PGH per genome\\n(0 not included)');\n",
    "\n",
    "f.savefig(figures_folder / 'figure1' / 'n_PGH_per_archaeal_genomes.pdf', dpi=300, bbox_inches='tight')"
   ]
  },
  {
   "cell_type": "code",
   "execution_count": null,
   "metadata": {},
   "outputs": [],
   "source": []
  }
 ],
 "metadata": {
  "kernelspec": {
   "display_name": "AvB",
   "language": "python",
   "name": "python3"
  },
  "language_info": {
   "codemirror_mode": {
    "name": "ipython",
    "version": 3
   },
   "file_extension": ".py",
   "mimetype": "text/x-python",
   "name": "python",
   "nbconvert_exporter": "python",
   "pygments_lexer": "ipython3",
   "version": "3.11.9"
  }
 },
 "nbformat": 4,
 "nbformat_minor": 2
}
